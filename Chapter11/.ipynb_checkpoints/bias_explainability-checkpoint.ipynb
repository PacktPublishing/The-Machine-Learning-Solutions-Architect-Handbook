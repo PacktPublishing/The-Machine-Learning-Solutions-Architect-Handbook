{
 "cells": [
  {
   "cell_type": "code",
   "execution_count": null,
   "metadata": {},
   "outputs": [],
   "source": [
    "from sagemaker import Session  \n",
    "\n",
    "session = Session() \n",
    "\n",
    "bucket = session.default_bucket() \n",
    "\n",
    "prefix = \"sagemaker/bias_explain\" \n",
    "\n",
    "region = session.boto_region_name \n",
    "\n",
    "# Define IAM role \n",
    "\n",
    "from sagemaker import get_execution_role \n",
    "\n",
    "import pandas as pd \n",
    "\n",
    "import numpy as np \n",
    "\n",
    "import os \n",
    "\n",
    "import boto3  \n",
    "\n",
    "role = get_execution_role() \n",
    "\n",
    "s3_client = boto3.client(\"s3\") "
   ]
  },
  {
   "cell_type": "code",
   "execution_count": null,
   "metadata": {},
   "outputs": [],
   "source": [
    "training_data = pd.read_csv(\"data/churn.csv\").dropna() \n",
    "\n",
    "training_data.head() "
   ]
  },
  {
   "cell_type": "code",
   "execution_count": null,
   "metadata": {},
   "outputs": [],
   "source": [
    "from sklearn.model_selection import train_test_split \n",
    "\n",
    "churn_train, churn_test = train_test_split (training_data, test_size=0.2) "
   ]
  },
  {
   "cell_type": "code",
   "execution_count": null,
   "metadata": {},
   "outputs": [],
   "source": [
    "from sklearn import preprocessing\n",
    "def number_encode_features(df): \n",
    "\n",
    "    result = df.copy() \n",
    "\n",
    "    encoders = {} \n",
    "\n",
    "    for column in result.columns: \n",
    "\n",
    "        if result.dtypes[column] == np.object: \n",
    "\n",
    "            encoders[column] = preprocessing.LabelEncoder() \n",
    "\n",
    "            result[column] = encoders[column].fit_transform(result[column].fillna(\"None\")) \n",
    "    return result, encoders"
   ]
  },
  {
   "cell_type": "code",
   "execution_count": null,
   "metadata": {},
   "outputs": [],
   "source": [
    "churn_train = pd.concat([churn_train[\"Exited\"], churn_train.drop([\"Exited\"], axis=1)], axis=1)\n",
    "churn_train, _ = number_encode_features(churn_train)\n",
    "churn_train.to_csv(\"data/train_churn.csv\", index=False, header=False)\n",
    "\n",
    "churn_test, _ = number_encode_features(churn_test)\n",
    "churn_features = churn_test.drop([\"Exited\"], axis=1)\n",
    "churn_target = churn_test[\"Exited\"]\n",
    "churn_features.to_csv(\"data/test_churn.csv\", index=False, header=False)"
   ]
  },
  {
   "cell_type": "code",
   "execution_count": null,
   "metadata": {},
   "outputs": [],
   "source": [
    "from sagemaker.s3 import S3Uploader \n",
    "\n",
    "from sagemaker.inputs import TrainingInput \n",
    "\n",
    "train_uri = S3Uploader.upload(\"data/train_churn.csv\", \"s3://{}/{}\".format(bucket, prefix)) \n",
    "\n",
    "train_input = TrainingInput(train_uri, content_type=\"csv\") \n",
    "\n",
    "test_uri = S3Uploader.upload(\"data/test_churn.csv\", \"s3://{}/{}\".format(bucket, prefix)) "
   ]
  },
  {
   "cell_type": "code",
   "execution_count": null,
   "metadata": {},
   "outputs": [],
   "source": [
    "from sagemaker.image_uris import retrieve \n",
    "\n",
    "from sagemaker.estimator import Estimator \n",
    "\n",
    "container = retrieve(\"xgboost\", region, version=\"1.2-1\") \n",
    "\n",
    "xgb = Estimator(container,role, instance_count=1,instance_type=\"ml.m5.xlarge\", disable_profiler=True,sagemaker_session=session,) \n",
    "\n",
    "xgb.set_hyperparameters(max_depth=5, eta=0.2,gamma=4,min_child_weight=6,subsample=0.8,objective=\"binary:logistic\",num_round=800,) \n",
    "\n",
    "xgb.fit({\"train\": train_input}, logs=False) "
   ]
  },
  {
   "cell_type": "code",
   "execution_count": null,
   "metadata": {},
   "outputs": [],
   "source": [
    "model_name = \"churn-clarify-model\" \n",
    "\n",
    "model = xgb.create_model(name=model_name) \n",
    "\n",
    "container_def = model.prepare_container_def() \n",
    "\n",
    "session.create_model(model_name, role, container_def) "
   ]
  },
  {
   "cell_type": "code",
   "execution_count": null,
   "metadata": {},
   "outputs": [],
   "source": [
    "from sagemaker import clarify \n",
    "\n",
    "clarify_processor = clarify.SageMakerClarifyProcessor( \n",
    "\n",
    "    role=role, instance_count=1, instance_type=\"ml.m5.xlarge\", sagemaker_session=session) "
   ]
  },
  {
   "cell_type": "code",
   "execution_count": null,
   "metadata": {},
   "outputs": [],
   "source": [
    "bias_report_output_path = \"s3://{}/{}/clarify-bias\".format(bucket, prefix) \n",
    "\n",
    "bias_data_config = clarify.DataConfig( \n",
    "\n",
    "    s3_data_input_path=train_uri, \n",
    "\n",
    "    s3_output_path=bias_report_output_path, \n",
    "\n",
    "    label=\"Exited\", \n",
    "\n",
    "    headers=churn_train.columns.to_list(), \n",
    "\n",
    "    dataset_type=\"text/csv\") "
   ]
  },
  {
   "cell_type": "code",
   "execution_count": null,
   "metadata": {},
   "outputs": [],
   "source": [
    "model_config = clarify.ModelConfig( \n",
    "\n",
    "    model_name=model_name, instance_type=\"ml.m5.xlarge\", \n",
    "\n",
    "    instance_count=1,accept_type=\"text/csv\", \n",
    "\n",
    "content_type=\"text/csv\",) "
   ]
  },
  {
   "cell_type": "code",
   "execution_count": null,
   "metadata": {},
   "outputs": [],
   "source": [
    "predictions_config = clarify.ModelPredictedLabelConfig(probability_threshold=0.8) "
   ]
  },
  {
   "cell_type": "code",
   "execution_count": null,
   "metadata": {},
   "outputs": [],
   "source": [
    "bias_config = clarify.BiasConfig( \n",
    "\n",
    "    label_values_or_threshold=[1], facet_name=\"Gender\", facet_values_or_threshold=[0]) "
   ]
  },
  {
   "cell_type": "code",
   "execution_count": null,
   "metadata": {},
   "outputs": [],
   "source": [
    "clarify_processor.run_bias( \n",
    "\n",
    "    data_config=bias_data_config, \n",
    "\n",
    "    bias_config=bias_config, \n",
    "\n",
    "    model_config=model_config, \n",
    "\n",
    "    model_predicted_label_config=predictions_config, \n",
    "\n",
    "    pre_training_methods=\"all\", \n",
    "\n",
    "    post_training_methods=\"all\") "
   ]
  },
  {
   "cell_type": "code",
   "execution_count": null,
   "metadata": {},
   "outputs": [],
   "source": [
    "shap_config = clarify.SHAPConfig( \n",
    "\n",
    "    baseline=[churn_features.iloc[0].values.tolist()], \n",
    "\n",
    "    num_samples=15, \n",
    "\n",
    "    agg_method=\"mean_abs\", \n",
    "\n",
    "    save_local_shap_values=True,) "
   ]
  },
  {
   "cell_type": "code",
   "execution_count": null,
   "metadata": {},
   "outputs": [],
   "source": [
    "explainability_output_path = \"s3://{}/{}/clarify-explainability\".format(bucket, prefix) \n",
    "\n",
    "explainability_data_config = clarify.DataConfig( \n",
    "\n",
    "    s3_data_input_path=train_uri, \n",
    "\n",
    "    s3_output_path=explainability_output_path, \n",
    "\n",
    "    label=\"Exited\", \n",
    "\n",
    "    headers=churn_train.columns.to_list(), \n",
    "\n",
    "    dataset_type=\"text/csv\") "
   ]
  },
  {
   "cell_type": "code",
   "execution_count": null,
   "metadata": {},
   "outputs": [],
   "source": [
    "clarify_processor.run_explainability( \n",
    "\n",
    "    data_config=explainability_data_config, \n",
    "\n",
    "    model_config=model_config, \n",
    "\n",
    "    explainability_config=shap_config,) "
   ]
  },
  {
   "cell_type": "code",
   "execution_count": null,
   "metadata": {},
   "outputs": [],
   "source": []
  }
 ],
 "metadata": {
  "instance_type": "ml.t3.medium",
  "kernelspec": {
   "display_name": "Python 3",
   "language": "python",
   "name": "python3"
  },
  "language_info": {
   "codemirror_mode": {
    "name": "ipython",
    "version": 3
   },
   "file_extension": ".py",
   "mimetype": "text/x-python",
   "name": "python",
   "nbconvert_exporter": "python",
   "pygments_lexer": "ipython3",
   "version": "3.9.1"
  }
 },
 "nbformat": 4,
 "nbformat_minor": 4
}
