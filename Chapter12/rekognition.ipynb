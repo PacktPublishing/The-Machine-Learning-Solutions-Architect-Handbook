{
 "cells": [
  {
   "cell_type": "markdown",
   "metadata": {},
   "source": [
    "### This notebook demonstrates the various Rekognition APIs "
   ]
  },
  {
   "cell_type": "code",
   "execution_count": null,
   "metadata": {},
   "outputs": [],
   "source": [
    "from pprint import pprint\n",
    "import boto3\n",
    "\n",
    "items_to_show = 1\n",
    "\n",
    "rekognition_client = boto3.client('rekognition')\n"
   ]
  },
  {
   "cell_type": "code",
   "execution_count": null,
   "metadata": {},
   "outputs": [],
   "source": [
    "print('Detecting faces')\n",
    "\n",
    "with open('data/rek_sample_face.jpeg', 'rb') as img_file:\n",
    "    sample_image = {'Bytes': img_file.read()}\n",
    "\n",
    "faces = rekognition_client.detect_faces(Image=sample_image, Attributes=['ALL'])\n",
    "pprint(faces['FaceDetails'][:items_to_show])"
   ]
  },
  {
   "cell_type": "code",
   "execution_count": null,
   "metadata": {},
   "outputs": [],
   "source": [
    "print('Detecting labels')\n",
    "max_labels = 10\n",
    "items_to_show = 10\n",
    "\n",
    "with open('data/rek_sample_label.jpeg', 'rb') as img_file:\n",
    "    sample_image = {'Bytes': img_file.read()}\n",
    "    \n",
    "labels = rekognition_client.detect_labels(Image=sample_image, MaxLabels=max_labels)\n",
    "pprint(labels['Labels'][:items_to_show])"
   ]
  },
  {
   "cell_type": "code",
   "execution_count": null,
   "metadata": {},
   "outputs": [],
   "source": [
    "print('Detecting text')\n",
    "\n",
    "with open('data/rek_sample_text.jpeg', 'rb') as img_file:\n",
    "    sample_image = {'Bytes': img_file.read()}\n",
    "    \n",
    "text = rekognition_client.detect_text(Image=sample_image)\n",
    "pprint(text['TextDetections'])"
   ]
  },
  {
   "cell_type": "code",
   "execution_count": null,
   "metadata": {},
   "outputs": [],
   "source": [
    "print('Detecting celebrities')\n",
    "\n",
    "# Save a picture with celebrities you want  \n",
    "\n",
    "with open('data/rek_sample_celebrity.jpeg', 'rb') as img_file:\n",
    "    sample_image = {'Bytes': img_file.read()}\n",
    "    \n",
    "celebrities = rekognition_client.recognize_celebrities(Image=sample_image)\n",
    "pprint(celebrities)"
   ]
  },
  {
   "cell_type": "code",
   "execution_count": null,
   "metadata": {},
   "outputs": [],
   "source": []
  }
 ],
 "metadata": {
  "instance_type": "ml.t3.medium",
  "kernelspec": {
   "display_name": "Python 3",
   "language": "python",
   "name": "python3"
  },
  "language_info": {
   "codemirror_mode": {
    "name": "ipython",
    "version": 3
   },
   "file_extension": ".py",
   "mimetype": "text/x-python",
   "name": "python",
   "nbconvert_exporter": "python",
   "pygments_lexer": "ipython3",
   "version": "3.9.1"
  }
 },
 "nbformat": 4,
 "nbformat_minor": 4
}
