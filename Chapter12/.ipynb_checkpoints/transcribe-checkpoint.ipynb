{
 "cells": [
  {
   "cell_type": "markdown",
   "metadata": {},
   "source": [
    "## This notebook demonstrates how to run a transcri"
   ]
  },
  {
   "cell_type": "code",
   "execution_count": null,
   "metadata": {},
   "outputs": [],
   "source": [
    "from pprint import pprint\n",
    "import boto3\n",
    "import time\n",
    "\n",
    "transcribe_client = boto3.client('transcribe')\n",
    "s3_resource = boto3.resource('s3')"
   ]
  },
  {
   "cell_type": "markdown",
   "metadata": {},
   "source": [
    "### Create a bucket to store the audio file to be transcribed. Save your own audio file as 'transcribe_sample.mp3' in the data directory"
   ]
  },
  {
   "cell_type": "code",
   "execution_count": null,
   "metadata": {},
   "outputs": [],
   "source": [
    "bucket_name = f'transcribe-bucket-{time.time_ns()}'\n",
    "bucket = s3_resource.create_bucket(\n",
    "        Bucket=bucket_name,\n",
    "        CreateBucketConfiguration={\n",
    "            'LocationConstraint': transcribe_client.meta.region_name})\n",
    "\n",
    "media_file_name = 'data/transcribe_sample.mp3'\n",
    "media_object_key = 'transcribe_sample.mp3'\n",
    "\n",
    "bucket.upload_file(media_file_name, media_object_key)\n",
    "media_uri = f's3://{bucket.name}/{media_object_key}'"
   ]
  },
  {
   "cell_type": "markdown",
   "metadata": {},
   "source": [
    "### Kick off the transcription job"
   ]
  },
  {
   "cell_type": "code",
   "execution_count": null,
   "metadata": {},
   "outputs": [],
   "source": [
    "job_name = f'transcribe_job_{time.time_ns()}'\n",
    "media_format = 'mp3'\n",
    "language_code = 'en-US'\n",
    "\n",
    "job_args = {\n",
    "            'TranscriptionJobName': job_name,\n",
    "            'Media': {'MediaFileUri': media_uri},\n",
    "            'MediaFormat': media_format,\n",
    "            'LanguageCode': language_code}\n",
    "\n",
    "transcribe_job = transcribe_client.start_transcription_job(**job_args)"
   ]
  },
  {
   "cell_type": "markdown",
   "metadata": {},
   "source": [
    "### Get the job status. Switch to the transcribe console to track the status of the job and see the final result"
   ]
  },
  {
   "cell_type": "code",
   "execution_count": null,
   "metadata": {},
   "outputs": [],
   "source": [
    "response = transcribe_client.get_transcription_job(\n",
    "            TranscriptionJobName=job_name)\n",
    "pprint(response['TranscriptionJob'])"
   ]
  },
  {
   "cell_type": "code",
   "execution_count": null,
   "metadata": {},
   "outputs": [],
   "source": []
  }
 ],
 "metadata": {
  "instance_type": "ml.t3.medium",
  "kernelspec": {
   "display_name": "Python 3",
   "language": "python",
   "name": "python3"
  },
  "language_info": {
   "codemirror_mode": {
    "name": "ipython",
    "version": 3
   },
   "file_extension": ".py",
   "mimetype": "text/x-python",
   "name": "python",
   "nbconvert_exporter": "python",
   "pygments_lexer": "ipython3",
   "version": "3.9.1"
  }
 },
 "nbformat": 4,
 "nbformat_minor": 4
}
