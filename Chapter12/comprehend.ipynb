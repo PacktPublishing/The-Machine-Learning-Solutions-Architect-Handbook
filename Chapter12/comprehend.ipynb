{
 "cells": [
  {
   "cell_type": "markdown",
   "metadata": {},
   "source": [
    "## This notebooks demonstrate how to to AWS Boto3 APIs to invoke the various Comprehend actions"
   ]
  },
  {
   "cell_type": "code",
   "execution_count": null,
   "metadata": {},
   "outputs": [],
   "source": [
    "from pprint import pprint\n",
    "import boto3\n",
    "\n",
    "items_to_show = 10\n",
    "\n",
    "with open('data/comprehend_sample.txt') as sample_file:\n",
    "        sample_text = sample_file.read()\n",
    "\n",
    "comprehend_client = boto3.client('comprehend')"
   ]
  },
  {
   "cell_type": "code",
   "execution_count": null,
   "metadata": {},
   "outputs": [],
   "source": [
    "print(\"detecting dominant language\")\n",
    "languages = comprehend_client.detect_dominant_language(Text=sample_text)\n",
    "lang_code = languages['Languages'][0]['LanguageCode']\n",
    "pprint(lang_code)"
   ]
  },
  {
   "cell_type": "code",
   "execution_count": null,
   "metadata": {},
   "outputs": [],
   "source": [
    "print(\"Detecting entities using the pre-trained model.\")\n",
    "entities = comprehend_client.detect_entities(Text=sample_text, LanguageCode=lang_code)\n",
    "print(f\"The first {items_to_show} are:\")\n",
    "pprint(entities['Entities'][:items_to_show])"
   ]
  },
  {
   "cell_type": "code",
   "execution_count": null,
   "metadata": {},
   "outputs": [],
   "source": [
    "print(\"Detecting sentiment in text\")\n",
    "sentiment = comprehend_client.detect_sentiment(Text=sample_text, LanguageCode=lang_code)\n",
    "pprint(sentiment['Sentiment'])\n",
    "pprint(sentiment['SentimentScore'])"
   ]
  },
  {
   "cell_type": "code",
   "execution_count": null,
   "metadata": {},
   "outputs": [],
   "source": [
    "print(\"Detecting pii entities in text\")\n",
    "pii = comprehend_client.detect_pii_entities(Text=sample_text, LanguageCode=lang_code)\n",
    "pprint(pii['Entities'][:items_to_show])"
   ]
  },
  {
   "cell_type": "code",
   "execution_count": null,
   "metadata": {},
   "outputs": [],
   "source": [
    "print('Dectecting key phrases')\n",
    "key_phrases = comprehend_client.detect_key_phrases(\n",
    "                Text=sample_text, LanguageCode=lang_code)\n",
    "pprint(key_phrases['KeyPhrases'][:items_to_show])"
   ]
  },
  {
   "cell_type": "code",
   "execution_count": null,
   "metadata": {},
   "outputs": [],
   "source": [
    "print('Detecting syntax')\n",
    "syntax = comprehend_client.detect_syntax(\n",
    "                Text=sample_text, LanguageCode=lang_code)\n",
    "pprint(syntax['SyntaxTokens'][:items_to_show])"
   ]
  },
  {
   "cell_type": "code",
   "execution_count": null,
   "metadata": {},
   "outputs": [],
   "source": []
  }
 ],
 "metadata": {
  "instance_type": "ml.t3.medium",
  "kernelspec": {
   "display_name": "Python 3 (Data Science)",
   "language": "python",
   "name": "python3__SAGEMAKER_INTERNAL__arn:aws:sagemaker:ca-central-1:310906938811:image/datascience-1.0"
  },
  "language_info": {
   "codemirror_mode": {
    "name": "ipython",
    "version": 3
   },
   "file_extension": ".py",
   "mimetype": "text/x-python",
   "name": "python",
   "nbconvert_exporter": "python",
   "pygments_lexer": "ipython3",
   "version": "3.7.10"
  }
 },
 "nbformat": 4,
 "nbformat_minor": 4
}
