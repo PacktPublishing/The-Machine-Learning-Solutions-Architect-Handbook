{
 "cells": [
  {
   "cell_type": "markdown",
   "metadata": {},
   "source": [
    "This notebooks demonstrate how to to AWS Boto3 APIs to invoke the various Comprehend actions"
   ]
  },
  {
   "cell_type": "code",
   "execution_count": 55,
   "metadata": {},
   "outputs": [],
   "source": [
    "from pprint import pprint\n",
    "import boto3\n",
    "\n",
    "items_to_show = 3\n",
    "\n",
    "with open('data/comprehend_sample.txt') as sample_file:\n",
    "        sample_text = sample_file.read()\n",
    "\n",
    "comprehend_client = boto3.client('comprehend')"
   ]
  },
  {
   "cell_type": "code",
   "execution_count": 56,
   "metadata": {},
   "outputs": [
    {
     "name": "stdout",
     "output_type": "stream",
     "text": [
      "detecting dominant language\n",
      "'en'\n"
     ]
    }
   ],
   "source": [
    "print(\"detecting dominant language\")\n",
    "languages = comprehend_client.detect_dominant_language(Text=sample_text)\n",
    "lang_code = languages['Languages'][0]['LanguageCode']\n",
    "pprint(lang_code)"
   ]
  },
  {
   "cell_type": "code",
   "execution_count": 57,
   "metadata": {},
   "outputs": [
    {
     "name": "stdout",
     "output_type": "stream",
     "text": [
      "Detecting entities using the pre-trained model.\n",
      "The first 3 are:\n",
      "[{'BeginOffset': 6,\n",
      "  'EndOffset': 15,\n",
      "  'Score': 0.9995719790458679,\n",
      "  'Text': 'Zhang Wei',\n",
      "  'Type': 'PERSON'},\n",
      " {'BeginOffset': 22,\n",
      "  'EndOffset': 26,\n",
      "  'Score': 0.9990108013153076,\n",
      "  'Text': 'John',\n",
      "  'Type': 'PERSON'},\n",
      " {'BeginOffset': 33,\n",
      "  'EndOffset': 67,\n",
      "  'Score': 0.9993506073951721,\n",
      "  'Text': 'AnyCompany Financial Services, LLC',\n",
      "  'Type': 'ORGANIZATION'}]\n"
     ]
    }
   ],
   "source": [
    "print(\"Detecting entities using the pre-trained model.\")\n",
    "entities = comprehend_client.detect_entities(Text=sample_text, LanguageCode=lang_code)\n",
    "print(f\"The first {items_to_show} are:\")\n",
    "pprint(entities['Entities'][:items_to_show])"
   ]
  },
  {
   "cell_type": "code",
   "execution_count": 58,
   "metadata": {},
   "outputs": [
    {
     "name": "stdout",
     "output_type": "stream",
     "text": [
      "Detecting sentiment in text\n",
      "'NEUTRAL'\n",
      "{'Mixed': 8.856321983330417e-06,\n",
      " 'Negative': 0.012237872928380966,\n",
      " 'Neutral': 0.9870284795761108,\n",
      " 'Positive': 0.0007247643661685288}\n"
     ]
    }
   ],
   "source": [
    "print(\"Detecting sentiment in text\")\n",
    "sentiment = comprehend_client.detect_sentiment(Text=sample_text, LanguageCode=lang_code)\n",
    "pprint(sentiment['Sentiment'])\n",
    "pprint(sentiment['SentimentScore'])"
   ]
  },
  {
   "cell_type": "code",
   "execution_count": 59,
   "metadata": {},
   "outputs": [
    {
     "name": "stdout",
     "output_type": "stream",
     "text": [
      "Detecting pii entities in text\n",
      "[{'BeginOffset': 6,\n",
      "  'EndOffset': 15,\n",
      "  'Score': 0.9999125003814697,\n",
      "  'Type': 'NAME'},\n",
      " {'BeginOffset': 22,\n",
      "  'EndOffset': 26,\n",
      "  'Score': 0.9998666048049927,\n",
      "  'Type': 'NAME'},\n",
      " {'BeginOffset': 88,\n",
      "  'EndOffset': 107,\n",
      "  'Score': 0.9999945163726807,\n",
      "  'Type': 'CREDIT_DEBIT_NUMBER'}]\n"
     ]
    }
   ],
   "source": [
    "print(\"Detecting pii entities in text\")\n",
    "pii = comprehend_client.detect_pii_entities(Text=sample_text, LanguageCode=lang_code)\n",
    "pprint(pii['Entities'][:items_to_show])"
   ]
  },
  {
   "cell_type": "code",
   "execution_count": 60,
   "metadata": {},
   "outputs": [
    {
     "name": "stdout",
     "output_type": "stream",
     "text": [
      "Dectecting key phrases\n",
      "[{'BeginOffset': 6,\n",
      "  'EndOffset': 15,\n",
      "  'Score': 0.9542659521102905,\n",
      "  'Text': 'Zhang Wei'},\n",
      " {'BeginOffset': 22,\n",
      "  'EndOffset': 26,\n",
      "  'Score': 0.9990684390068054,\n",
      "  'Text': 'John'},\n",
      " {'BeginOffset': 28,\n",
      "  'EndOffset': 62,\n",
      "  'Score': 0.9869424700737,\n",
      "  'Text': 'Your AnyCompany Financial Services'}]\n"
     ]
    }
   ],
   "source": [
    "print('Dectecting key phrases')\n",
    "key_phrases = comprehend_client.detect_key_phrases(\n",
    "                Text=sample_text, LanguageCode=lang_code)\n",
    "pprint(key_phrases['KeyPhrases'][:items_to_show])"
   ]
  },
  {
   "cell_type": "code",
   "execution_count": 61,
   "metadata": {},
   "outputs": [
    {
     "name": "stdout",
     "output_type": "stream",
     "text": [
      "Detecting syntax\n",
      "[{'BeginOffset': 0,\n",
      "  'EndOffset': 5,\n",
      "  'PartOfSpeech': {'Score': 0.9812782406806946, 'Tag': 'INTJ'},\n",
      "  'Text': 'Hello',\n",
      "  'TokenId': 1},\n",
      " {'BeginOffset': 6,\n",
      "  'EndOffset': 11,\n",
      "  'PartOfSpeech': {'Score': 0.9995248317718506, 'Tag': 'PROPN'},\n",
      "  'Text': 'Zhang',\n",
      "  'TokenId': 2},\n",
      " {'BeginOffset': 12,\n",
      "  'EndOffset': 15,\n",
      "  'PartOfSpeech': {'Score': 0.9987133741378784, 'Tag': 'PROPN'},\n",
      "  'Text': 'Wei',\n",
      "  'TokenId': 3}]\n"
     ]
    }
   ],
   "source": [
    "print('Detecting syntax')\n",
    "syntax = comprehend_client.detect_syntax(\n",
    "                Text=sample_text, LanguageCode=lang_code)\n",
    "pprint(syntax['SyntaxTokens'][:items_to_show])"
   ]
  },
  {
   "cell_type": "code",
   "execution_count": null,
   "metadata": {},
   "outputs": [],
   "source": []
  }
 ],
 "metadata": {
  "instance_type": "ml.t3.medium",
  "kernelspec": {
   "display_name": "Python 3 (Data Science)",
   "language": "python",
   "name": "python3__SAGEMAKER_INTERNAL__arn:aws:sagemaker:ca-central-1:310906938811:image/datascience-1.0"
  },
  "language_info": {
   "codemirror_mode": {
    "name": "ipython",
    "version": 3
   },
   "file_extension": ".py",
   "mimetype": "text/x-python",
   "name": "python",
   "nbconvert_exporter": "python",
   "pygments_lexer": "ipython3",
   "version": "3.7.10"
  }
 },
 "nbformat": 4,
 "nbformat_minor": 4
}
