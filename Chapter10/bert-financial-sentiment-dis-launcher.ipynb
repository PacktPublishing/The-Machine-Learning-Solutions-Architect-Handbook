{
 "cells": [
  {
   "cell_type": "code",
   "execution_count": null,
   "id": "likely-league",
   "metadata": {},
   "outputs": [],
   "source": [
    "import os \n",
    "\n",
    "import numpy as np \n",
    "\n",
    "import pandas as pd \n",
    "\n",
    "import sagemaker \n",
    "\n",
    "\n",
    "sagemaker_session = sagemaker.Session() \n",
    "\n",
    "bucket = \"<bucket name>\" \n",
    "\n",
    "prefix = \"sagemaker/pytorch-bert-financetext\" \n",
    "\n",
    "role = sagemaker.get_execution_role() \n",
    "\n",
    "\n",
    "inputs_train = sagemaker_session.upload_data(\"./data/train.csv\", bucket=bucket, key_prefix=prefix) \n",
    "\n",
    "inputs_test = sagemaker_session.upload_data(\"./data/test.csv\", bucket=bucket, key_prefix=prefix) "
   ]
  },
  {
   "cell_type": "code",
   "execution_count": null,
   "id": "sorted-brave",
   "metadata": {},
   "outputs": [],
   "source": [
    "from sagemaker.pytorch import PyTorch \n",
    "\n",
    "output_path = f\"s3://{bucket}/{prefix}\" \n",
    "\n",
    "estimator = PyTorch(\n",
    "    entry_point=\"train-dis.py\",\n",
    "    source_dir=\"code\",\n",
    "    role=role,\n",
    "    framework_version=\"1.6\",\n",
    "    py_version=\"py3\",\n",
    "    instance_count=2,  \n",
    "    instance_type= \"ml.g4dn.12xlarge\", \n",
    "    output_path=output_path,\n",
    "    hyperparameters={\n",
    "        \"epochs\": 10,\n",
    "        \"lr\" : 5e-5,\n",
    "        \"num_labels\": 3,\n",
    "        \"train_file\": \"train.csv\",\n",
    "        \"test_file\" : \"test.csv\",\n",
    "        \"MAX_LEN\" : 315,\n",
    "        \"batch_size\" : 64,\n",
    "        \"test_batch_size\" : 10,\n",
    "        \"backend\": \"nccl\"\n",
    "    },\n",
    "    \n",
    ")\n",
    "estimator.fit({\"training\": inputs_train, \"testing\": inputs_test}) "
   ]
  },
  {
   "cell_type": "code",
   "execution_count": null,
   "id": "pleasant-lyric",
   "metadata": {},
   "outputs": [],
   "source": [
    "from sagemaker.pytorch.model import PyTorchModel \n",
    "\n",
    "model_data = estimator.model_data \n",
    "\n",
    "pytorch_model = PyTorchModel(model_data=model_data, \n",
    "\n",
    "                             role=role, \n",
    "\n",
    "                             framework_version=\"1.6\", \n",
    "\n",
    "                             source_dir=\"code\", \n",
    "\n",
    "                             py_version=\"py3\", \n",
    "\n",
    "                             entry_point=\"inference.py\") \n",
    "\n",
    "  \n",
    "predictor = pytorch_model.deploy(initial_instance_count=1, instance_type=\"ml.m4.xlarge\")  "
   ]
  },
  {
   "cell_type": "code",
   "execution_count": null,
   "id": "recognized-jurisdiction",
   "metadata": {},
   "outputs": [],
   "source": [
    "\n",
    "predictor.serializer = sagemaker.serializers.JSONSerializer() \n",
    "\n",
    "predictor.deserializer = sagemaker.deserializers.JSONDeserializer() \n",
    "\n",
    "result = predictor.predict(\"The market is doing better than last year\") \n",
    "\n",
    "print(\"predicted class: \", np.argmax(result, axis=1)) "
   ]
  },
  {
   "cell_type": "code",
   "execution_count": null,
   "id": "academic-kansas",
   "metadata": {},
   "outputs": [],
   "source": [
    "predictor.delete_endpoint()"
   ]
  }
 ],
 "metadata": {
  "instance_type": "ml.g4dn.xlarge",
  "kernelspec": {
   "display_name": "Python 3",
   "language": "python",
   "name": "python3"
  },
  "language_info": {
   "codemirror_mode": {
    "name": "ipython",
    "version": 3
   },
   "file_extension": ".py",
   "mimetype": "text/x-python",
   "name": "python",
   "nbconvert_exporter": "python",
   "pygments_lexer": "ipython3",
   "version": "3.9.1"
  }
 },
 "nbformat": 4,
 "nbformat_minor": 5
}
