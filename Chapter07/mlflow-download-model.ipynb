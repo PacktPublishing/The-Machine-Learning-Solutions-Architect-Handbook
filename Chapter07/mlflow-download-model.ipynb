{
 "cells": [
  {
   "cell_type": "code",
   "execution_count": null,
   "id": "acoustic-password",
   "metadata": {},
   "outputs": [],
   "source": [
    "import mlflow.sklearn \n",
    "\n",
    "import shutil \n",
    "\n",
    "model_name = \"churn-model\" \n",
    "\n",
    "model_version = <version> \n",
    "\n",
    " \n",
    "\n",
    "sk_model = mlflow.sklearn.load_model(f\"models:/{model_name}/{model_version}\") \n",
    "\n",
    "mlflow.sklearn.save_model(sk_model, f\"{model_name}_{model_version}\") \n",
    "\n",
    " \n",
    "\n",
    "src = f\"{model_name}_{model_version}/model.pkl\" \n",
    "\n",
    "des = f\"skserver_{model_name}_{model_version}/model.joblib\" \n",
    "\n",
    " \n",
    "\n",
    "shutil.copyfile(src, des) \n",
    "\n",
    " "
   ]
  },
  {
   "cell_type": "code",
   "execution_count": null,
   "id": "healthy-greensboro",
   "metadata": {},
   "outputs": [],
   "source": [
    "import boto3 \n",
    "\n",
    "import os \n",
    "\n",
    " \n",
    "\n",
    "targetbucket = \"model-deployment-<your initial>\" \n",
    "\n",
    "prefix = f\"mlflow-models/{model_name}_{model_version}\" \n",
    "\n",
    "             \n",
    "\n",
    "def upload_objects(src_path, bucketname): \n",
    "\n",
    "    s3 = boto3.resource('s3') \n",
    "\n",
    "    my_bucket = s3.Bucket(bucketname) \n",
    "\n",
    " \n",
    "\n",
    "    for path, dirs, files in os.walk(src_path): \n",
    "\n",
    "        dirs[:] = [d for d in dirs if not d.startswith('.')] \n",
    "\n",
    "             \n",
    "        path = path.replace(\"\\\\\",\"/\") \n",
    "\n",
    "        directory_name = prefix + path.replace(src_path,\"\") \n",
    "\n",
    "        for file in files: \n",
    "\n",
    "            my_bucket.upload_file(os.path.join(path, file), directory_name + \"/\" + file)\n",
    "            \n",
    "\n",
    "\n",
    "local_dir = f\"skserver_{model_name}_{model_version} \n",
    "\n",
    "upload_objects (local_dir, targetbucket) \n",
    "\n",
    " "
   ]
  }
 ],
 "metadata": {
  "kernelspec": {
   "display_name": "Python 3",
   "language": "python",
   "name": "python3"
  },
  "language_info": {
   "codemirror_mode": {
    "name": "ipython",
    "version": 3
   },
   "file_extension": ".py",
   "mimetype": "text/x-python",
   "name": "python",
   "nbconvert_exporter": "python",
   "pygments_lexer": "ipython3",
   "version": "3.9.1"
  }
 },
 "nbformat": 4,
 "nbformat_minor": 5
}
