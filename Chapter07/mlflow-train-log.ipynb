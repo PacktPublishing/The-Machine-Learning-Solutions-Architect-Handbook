{
 "cells": [
  {
   "cell_type": "code",
   "execution_count": null,
   "id": "thermal-advertiser",
   "metadata": {},
   "outputs": [],
   "source": [
    "! pip3 install mlflow "
   ]
  },
  {
   "cell_type": "code",
   "execution_count": null,
   "id": "million-burden",
   "metadata": {},
   "outputs": [],
   "source": [
    "import pandas as pd \n",
    "\n",
    "import mlflow \n",
    "\n",
    "from sklearn.ensemble import RandomForestClassifier \n",
    "\n",
    "from sklearn.model_selection import train_test_split \n",
    "\n",
    "from sklearn.preprocessing import OrdinalEncoder "
   ]
  },
  {
   "cell_type": "code",
   "execution_count": null,
   "id": "charming-serve",
   "metadata": {},
   "outputs": [],
   "source": [
    "churn_data = pd.read_csv(\"churn.csv\") \n",
    "\n",
    "  \n",
    "\n",
    "encoder = OrdinalEncoder() \n",
    "\n",
    "churn_data['Geography_code'] = encoder.fit_transform(churn_data[['Geography']]) \n",
    "\n",
    "churn_data['Gender_code'] = encoder.fit_transform(churn_data[['Gender']]) \n",
    "\n",
    "churn_data.drop(columns = ['Geography','Gender','RowNumber','Surname'], inplace=True) \n",
    "\n",
    "  \n",
    "\n",
    "# Split the dataset into training (80%) and testing (20%). \n",
    "\n",
    "churn_train, churn_test = train_test_split(churn_data, test_size=0.2) \n",
    "\n",
    " \n",
    "\n",
    "# Split the features from the target variable “Exited” as it is required for model training \n",
    "\n",
    "churn_train_X = churn_train.loc[:, churn_train.columns != 'Exited'] \n",
    "\n",
    "churn_train_y = churn_train['Exited'] \n",
    "\n",
    "  \n",
    "\n",
    "churn_test_X = churn_test.loc[:, churn_test.columns != 'Exited'] \n",
    "\n",
    "churn_test_y = churn_test['Exited'] \n",
    "\n",
    " "
   ]
  },
  {
   "cell_type": "code",
   "execution_count": null,
   "id": "secondary-screening",
   "metadata": {},
   "outputs": [],
   "source": [
    "#setting mlflow tracking server  \n",
    "\n",
    "tracking_uri = <tracking server uri> \n",
    "\n",
    "mlflow.set_tracking_uri(tracking_uri) \n",
    "\n",
    " \n",
    "\n",
    "mlflow.set_experiment('customer churn') \n",
    "\n",
    "mlflow.sklearn.autolog() \n",
    "\n",
    " \n",
    "\n",
    "with mlflow.start_run(): \n",
    "\n",
    "    bank_churn_clf = RandomForestClassifier(max_depth=2, random_state=0) \n",
    "\n",
    "    bank_churn_clf.fit(churn_train_X, churn_train_y) \n",
    "\n",
    "    mlflow.sklearn.log_model(sk_model=bank_churn_clf, artifact_path=\"sklearn-model\", registered_model_name=\"churn-model\") \n",
    "\n",
    " "
   ]
  }
 ],
 "metadata": {
  "kernelspec": {
   "display_name": "Python 3",
   "language": "python",
   "name": "python3"
  },
  "language_info": {
   "codemirror_mode": {
    "name": "ipython",
    "version": 3
   },
   "file_extension": ".py",
   "mimetype": "text/x-python",
   "name": "python",
   "nbconvert_exporter": "python",
   "pygments_lexer": "ipython3",
   "version": "3.9.1"
  }
 },
 "nbformat": 4,
 "nbformat_minor": 5
}
