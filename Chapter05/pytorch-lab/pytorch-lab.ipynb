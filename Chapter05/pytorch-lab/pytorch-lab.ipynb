{
 "cells": [
  {
   "cell_type": "code",
   "execution_count": null,
   "id": "further-consensus",
   "metadata": {},
   "outputs": [],
   "source": [
    "!pip3 install torch \n",
    "\n",
    "!pip3 install torchvision "
   ]
  },
  {
   "cell_type": "code",
   "execution_count": null,
   "id": "sporting-trust",
   "metadata": {},
   "outputs": [],
   "source": [
    "import numpy as np \n",
    "\n",
    "import matplotlib.pyplot as plt \n",
    "\n",
    "import torch \n",
    "\n",
    "from torchvision import datasets, transforms \n",
    "\n",
    "from torch import nn, optim \n",
    "\n",
    " \n",
    "\n",
    "transform = transforms.Compose([transforms.ToTensor(), transforms.Normalize((0.5,), (0.5,),)]) \n",
    "\n",
    "trainset = datasets.MNIST('pytorch_data/train/', download=True, train=True, transform=transform) \n",
    "\n",
    "valset = datasets.MNIST('pytorch_data/test/', download=True, train=False, transform=transform) \n",
    "\n",
    "trainloader = torch.utils.data.DataLoader(trainset, batch_size=64, shuffle=True) "
   ]
  },
  {
   "cell_type": "code",
   "execution_count": null,
   "id": "cultural-tension",
   "metadata": {},
   "outputs": [],
   "source": [
    "model = nn.Sequential(nn.Linear(784, 128), \n",
    "\n",
    "                      nn.ReLU(), \n",
    "\n",
    "                      nn.Linear(128, 64), \n",
    "\n",
    "                      nn.ReLU(), \n",
    "\n",
    "                      nn.Linear(64, 10)) "
   ]
  },
  {
   "cell_type": "code",
   "execution_count": null,
   "id": "casual-replication",
   "metadata": {},
   "outputs": [],
   "source": [
    "images, labels = next(iter(trainloader)) \n",
    "\n",
    "pixels = images[0][0] \n",
    "\n",
    "plt.imshow(pixels, cmap='gray') \n",
    "\n",
    "plt.show()"
   ]
  },
  {
   "cell_type": "code",
   "execution_count": null,
   "id": "southeast-isaac",
   "metadata": {},
   "outputs": [],
   "source": [
    "criterion = nn.CrossEntropyLoss()  \n",
    "\n",
    "optimizer = optim.Adam(model.parameters(), lr=0.003) "
   ]
  },
  {
   "cell_type": "code",
   "execution_count": null,
   "id": "characteristic-cruise",
   "metadata": {},
   "outputs": [],
   "source": [
    "epochs = 15 \n",
    "\n",
    "for e in range(epochs): \n",
    "\n",
    "    running_loss = 0 \n",
    "\n",
    "    for images, labels in trainloader: \n",
    "\n",
    "        images = images.view(images.shape[0], -1) \n",
    "\n",
    "        optimizer.zero_grad() \n",
    "\n",
    "        output = model(images) \n",
    "\n",
    "        loss = criterion(output, labels) \n",
    "\n",
    "        loss.backward() \n",
    "\n",
    "        optimizer.step() \n",
    "\n",
    "        running_loss += loss.item() \n",
    "\n",
    "    else: \n",
    "\n",
    "        print(\"Epoch {} - Training loss: {}\".format(e, running_loss/len(trainloader))) "
   ]
  },
  {
   "cell_type": "code",
   "execution_count": null,
   "id": "governmental-donor",
   "metadata": {},
   "outputs": [],
   "source": [
    "valloader = torch.utils.data.DataLoader(valset, batch_size=valset.data.shape[0], shuffle=True) \n",
    "\n",
    "val_images, val_labels = next(iter(valloader)) \n",
    "\n",
    "val_images = val_images.view(val_images.shape[0], -1) \n",
    "\n",
    "predictions = model (val_images) \n",
    "\n",
    "predicted_labels = np.argmax(predictions.detach().numpy(), axis=1) \n",
    "\n",
    " \n",
    "\n",
    "from sklearn.metrics import accuracy_score \n",
    "\n",
    "accuracy_score(val_labels.detach().numpy(), predicted_labels) "
   ]
  },
  {
   "cell_type": "code",
   "execution_count": null,
   "id": "heated-delicious",
   "metadata": {},
   "outputs": [],
   "source": [
    "torch.save(model, 'my_mnist_model.pt')"
   ]
  },
  {
   "cell_type": "code",
   "execution_count": null,
   "id": "velvet-calgary",
   "metadata": {},
   "outputs": [],
   "source": []
  }
 ],
 "metadata": {
  "kernelspec": {
   "display_name": "Python 3",
   "language": "python",
   "name": "python3"
  },
  "language_info": {
   "codemirror_mode": {
    "name": "ipython",
    "version": 3
   },
   "file_extension": ".py",
   "mimetype": "text/x-python",
   "name": "python",
   "nbconvert_exporter": "python",
   "pygments_lexer": "ipython3",
   "version": "3.9.1"
  }
 },
 "nbformat": 4,
 "nbformat_minor": 5
}
