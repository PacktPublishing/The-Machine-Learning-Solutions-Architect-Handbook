{
 "cells": [
  {
   "cell_type": "code",
   "execution_count": null,
   "id": "clean-rolling",
   "metadata": {},
   "outputs": [],
   "source": [
    "! pip3 install --upgrade tensorflow "
   ]
  },
  {
   "cell_type": "code",
   "execution_count": null,
   "id": "aware-farming",
   "metadata": {},
   "outputs": [],
   "source": [
    "import numpy as np \n",
    "\n",
    "import tensorflow as tf  \n",
    "\n",
    "train, test = tf.keras.datasets.fashion_mnist.load_data() \n",
    "\n",
    "images, labels = train \n",
    "\n",
    "labels = labels.astype(np.int32) \n",
    "\n",
    "images = images/256    \n",
    "\n",
    "train_ds = tf.data.Dataset.from_tensor_slices((images, labels)) \n",
    "\n",
    "train_ds = train_ds.batch(32) "
   ]
  },
  {
   "cell_type": "code",
   "execution_count": null,
   "id": "sustainable-reducing",
   "metadata": {},
   "outputs": [],
   "source": [
    "from matplotlib import pyplot as plt \n",
    "\n",
    "print (\"label:\" + str(labels[0])) \n",
    "\n",
    "pixels = images[0] \n",
    "\n",
    "plt.imshow(pixels, cmap='gray') \n",
    "\n",
    "plt.show() "
   ]
  },
  {
   "cell_type": "code",
   "execution_count": null,
   "id": "eastern-handbook",
   "metadata": {},
   "outputs": [],
   "source": [
    "model = tf.keras.Sequential([ \n",
    "\n",
    "   tf.keras.layers.Flatten(), \n",
    "\n",
    "   tf.keras.layers.Dense(100, activation=\"relu\"), \n",
    "\n",
    "   tf.keras.layers.Dense(50, activation=\"relu\"), \n",
    "\n",
    "   tf.keras.layers.Dense(10), \n",
    "\n",
    "   tf.keras.layers.Softmax() \n",
    "\n",
    "]) \n",
    "\n",
    "model.compile(optimizer='adam', \n",
    "\n",
    "              loss=tf.keras.losses.SparseCategoricalCrossentropy(),  \n",
    "\n",
    "              metrics=[tf.keras.metrics.SparseCategoricalAccuracy()]) \n",
    "\n",
    " \n",
    "\n",
    "model.fit(train_ds, epochs=10) "
   ]
  },
  {
   "cell_type": "code",
   "execution_count": null,
   "id": "alert-dictionary",
   "metadata": {},
   "outputs": [],
   "source": [
    "images_test, labels_test = test \n",
    "\n",
    "labels_test = labels_test.astype(np.int32) \n",
    "\n",
    "  \n",
    "\n",
    "images_test = images_test/256    \n",
    "\n",
    "     \n",
    "\n",
    "test_ds = tf.data.Dataset.from_tensor_slices((images_test, labels_test)) \n",
    "\n",
    "test_ds = train_ds.batch(32) \n",
    "\n",
    "test_ds = train_ds.shuffle(30) \n",
    "\n",
    " \n",
    "\n",
    "results = model.evaluate(test_ds) \n",
    "\n",
    "print(\"test loss, test acc:\", results) "
   ]
  },
  {
   "cell_type": "code",
   "execution_count": null,
   "id": "oriental-grace",
   "metadata": {},
   "outputs": [],
   "source": [
    "predictions = model.predict(test[0]) \n",
    "\n",
    "predicted_labels = np.argmax(predictions, axis=1) \n",
    "\n",
    "m = tf.keras.metrics.Accuracy() \n",
    "\n",
    "m.update_state(predicted_labels, test[1]) \n",
    "\n",
    "m.result().numpy() "
   ]
  },
  {
   "cell_type": "code",
   "execution_count": null,
   "id": "common-tactics",
   "metadata": {},
   "outputs": [],
   "source": [
    "model.save(filepath='model', save_format='tf') "
   ]
  },
  {
   "cell_type": "code",
   "execution_count": null,
   "id": "naked-payday",
   "metadata": {},
   "outputs": [],
   "source": []
  }
 ],
 "metadata": {
  "kernelspec": {
   "display_name": "Python 3",
   "language": "python",
   "name": "python3"
  },
  "language_info": {
   "codemirror_mode": {
    "name": "ipython",
    "version": 3
   },
   "file_extension": ".py",
   "mimetype": "text/x-python",
   "name": "python",
   "nbconvert_exporter": "python",
   "pygments_lexer": "ipython3",
   "version": "3.9.1"
  }
 },
 "nbformat": 4,
 "nbformat_minor": 5
}
