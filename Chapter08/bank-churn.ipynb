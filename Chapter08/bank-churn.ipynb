{
 "cells": [
  {
   "cell_type": "code",
   "execution_count": null,
   "id": "hourly-implementation",
   "metadata": {},
   "outputs": [],
   "source": [
    "! pip3 install matplotlib "
   ]
  },
  {
   "cell_type": "code",
   "execution_count": null,
   "id": "opening-episode",
   "metadata": {},
   "outputs": [],
   "source": [
    "import pandas as pd \n",
    "\n",
    "churn_data = pd.read_csv(\"churn.csv\") \n",
    "\n",
    "churn_data.head() "
   ]
  },
  {
   "cell_type": "code",
   "execution_count": null,
   "id": "fatal-buying",
   "metadata": {},
   "outputs": [],
   "source": [
    "# The following command calculates the various statistics for the features. \n",
    "\n",
    "churn_data.describe()   "
   ]
  },
  {
   "cell_type": "code",
   "execution_count": null,
   "id": "physical-manor",
   "metadata": {},
   "outputs": [],
   "source": [
    "# The following command displays the histograms for the different features.   \n",
    "\n",
    "# You can replace the column names to plot the histograms for other features \n",
    "\n",
    "churn_data.hist(['CreditScore', 'Age', 'Balance']) "
   ]
  },
  {
   "cell_type": "code",
   "execution_count": null,
   "id": "deadly-bubble",
   "metadata": {},
   "outputs": [],
   "source": [
    "# The following command calculate the correlations among features \n",
    "\n",
    "churn_data.corr() "
   ]
  },
  {
   "cell_type": "code",
   "execution_count": null,
   "id": "stone-bible",
   "metadata": {},
   "outputs": [],
   "source": [
    "from sklearn.preprocessing import OrdinalEncoder \n",
    "\n",
    "encoder = OrdinalEncoder() \n",
    "\n",
    "churn_data['Geography_code'] = encoder.fit_transform(churn_data[['Geography']]) \n",
    "\n",
    "churn_data['Gender_code'] = encoder.fit_transform(churn_data[['Gender']]) \n",
    "\n",
    "churn_data.drop(columns = ['Geography','Gender','RowNumber','Surname'], inplace=True)"
   ]
  },
  {
   "cell_type": "code",
   "execution_count": null,
   "id": "indonesian-causing",
   "metadata": {},
   "outputs": [],
   "source": [
    "# we import the train_test_split class for data split \n",
    "\n",
    "from sklearn.model_selection import train_test_split \n",
    "\n",
    "# Split the dataset into training (80%) and testing (20%). \n",
    "\n",
    "churn_train, churn_test = train_test_split(churn_data, test_size=0.2) \n",
    "\n",
    "# Split the features from the target variable “Exited” as it is required for model training \n",
    "\n",
    "# and validation later. \n",
    "\n",
    "churn_train_X = churn_train.loc[:, churn_train.columns != 'Exited'] \n",
    "\n",
    "churn_train_y = churn_train['Exited'] \n",
    "\n",
    " \n",
    "\n",
    "churn_test_X = churn_test.loc[:, churn_test.columns != 'Exited'] \n",
    "\n",
    "churn_test_y = churn_test['Exited'] "
   ]
  },
  {
   "cell_type": "code",
   "execution_count": null,
   "id": "informal-sherman",
   "metadata": {},
   "outputs": [],
   "source": [
    "# We will use the Random Forest algorithm to train the model \n",
    "\n",
    "from sklearn.ensemble import RandomForestClassifier \n",
    "\n",
    "bank_churn_clf = RandomForestClassifier(max_depth=2, random_state=0) \n",
    "\n",
    "bank_churn_clf.fit(churn_train_X, churn_train_y)  "
   ]
  },
  {
   "cell_type": "code",
   "execution_count": null,
   "id": "disturbed-dressing",
   "metadata": {},
   "outputs": [],
   "source": [
    "# We use the accuracy_score class of the sklearn library to calculate the accuracy. \n",
    "\n",
    "from sklearn.metrics import accuracy_score \n",
    "\n",
    "# We use the trained model to generate predictions using the test dataset \n",
    "\n",
    "churn_prediction_y = bank_churn_clf.predict(churn_test_X) \n",
    "\n",
    "# We measure the accuracy using the accuracy_score class. \n",
    "\n",
    "accuracy_score(churn_test_y, churn_prediction_y) "
   ]
  }
 ],
 "metadata": {
  "kernelspec": {
   "display_name": "Python 3",
   "language": "python",
   "name": "python3"
  },
  "language_info": {
   "codemirror_mode": {
    "name": "ipython",
    "version": 3
   },
   "file_extension": ".py",
   "mimetype": "text/x-python",
   "name": "python",
   "nbconvert_exporter": "python",
   "pygments_lexer": "ipython3",
   "version": "3.9.1"
  }
 },
 "nbformat": 4,
 "nbformat_minor": 5
}
