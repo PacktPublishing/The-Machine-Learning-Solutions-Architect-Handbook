{
 "cells": [
  {
   "cell_type": "code",
   "execution_count": null,
   "id": "alien-stopping",
   "metadata": {},
   "outputs": [],
   "source": [
    "import os \n",
    "\n",
    "import numpy as np \n",
    "\n",
    "import pandas as pd \n",
    "\n",
    "import sagemaker \n",
    "\n",
    "  \n",
    "\n",
    "sagemaker_session = sagemaker.Session() \n",
    "\n",
    "bucket = \"<bucket name>\" \n",
    "\n",
    "prefix = \"sagemaker/pytorch-bert-financetext\" \n",
    "\n",
    "role = sagemaker.get_execution_role() \n",
    "\n",
    "  \n",
    "\n",
    "inputs_train = sagemaker_session.upload_data(\"./data/train.csv\", bucket=bucket, key_prefix=prefix) \n",
    "\n",
    "inputs_test = sagemaker_session.upload_data(\"./data/test.csv\", bucket=bucket, key_prefix=prefix) "
   ]
  },
  {
   "cell_type": "code",
   "execution_count": null,
   "id": "sunrise-brighton",
   "metadata": {},
   "outputs": [],
   "source": [
    "from sagemaker.pytorch import PyTorch \n",
    "\n",
    "output_path = f\"s3://{bucket}/{prefix}\" \n",
    "\n",
    "  \n",
    "\n",
    "estimator = PyTorch( \n",
    "\n",
    "    entry_point=\"train.py\", \n",
    "\n",
    "    source_dir=\"code\", \n",
    "\n",
    "    role=role, \n",
    "\n",
    "    framework_version=\"1.6\", \n",
    "\n",
    "    py_version=\"py3\", \n",
    "\n",
    "    instance_count=1,   \n",
    "\n",
    "    instance_type=\"ml.p3.2xlarge\", \n",
    "\n",
    "    output_path=output_path, \n",
    "\n",
    "    hyperparameters={ \n",
    "\n",
    "        \"epochs\": 4, \n",
    "\n",
    "        \"lr\" : 5e-5, \n",
    "\n",
    "        \"num_labels\": 3, \n",
    "\n",
    "        \"train_file\": \"train.csv\", \n",
    "\n",
    "        \"test_file\" : \"test.csv\", \n",
    "\n",
    "        \"MAX_LEN\" : 315, \n",
    "\n",
    "        \"batch-size\" : 16, \n",
    "\n",
    "        \"test-batch-size\" : 10 \n",
    "\n",
    "    } \n",
    "\n",
    ") \n",
    "\n",
    "estimator.fit({\"training\": inputs_train, \"testing\": inputs_test}) "
   ]
  },
  {
   "cell_type": "code",
   "execution_count": null,
   "id": "tested-tackle",
   "metadata": {},
   "outputs": [],
   "source": [
    "from sagemaker.pytorch.model import PyTorchModel \n",
    "\n",
    "model_data = estimator.model_data \n",
    "\n",
    "pytorch_model = PyTorchModel(model_data=model_data, \n",
    "\n",
    "                             role=role, \n",
    "\n",
    "                             framework_version=\"1.6\", \n",
    "\n",
    "                             source_dir=\"code\", \n",
    "\n",
    "                             py_version=\"py3\", \n",
    "\n",
    "                             entry_point=\"inference.py\") \n",
    "\n",
    "  \n",
    "predictor = pytorch_model.deploy(initial_instance_count=1, instance_type=\"ml.m4.xlarge\") \n"
   ]
  },
  {
   "cell_type": "code",
   "execution_count": null,
   "id": "inside-victorian",
   "metadata": {},
   "outputs": [],
   "source": [
    "predictor.serializer = sagemaker.serializers.JSONSerializer() \n",
    "\n",
    "predictor.deserializer = sagemaker.deserializers.JSONDeserializer() \n",
    "\n",
    "result = predictor.predict(\"The market is doing better than last year\") \n",
    "\n",
    "print(\"predicted class: \", np.argmax(result, axis=1)) "
   ]
  },
  {
   "cell_type": "code",
   "execution_count": null,
   "id": "musical-gregory",
   "metadata": {},
   "outputs": [],
   "source": [
    "predictor.delete_endpoint()"
   ]
  }
 ],
 "metadata": {
  "kernelspec": {
   "display_name": "Python 3",
   "language": "python",
   "name": "python3"
  },
  "language_info": {
   "codemirror_mode": {
    "name": "ipython",
    "version": 3
   },
   "file_extension": ".py",
   "mimetype": "text/x-python",
   "name": "python",
   "nbconvert_exporter": "python",
   "pygments_lexer": "ipython3",
   "version": "3.9.1"
  }
 },
 "nbformat": 4,
 "nbformat_minor": 5
}
